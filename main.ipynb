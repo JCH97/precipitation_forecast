{
 "cells": [
  {
   "cell_type": "markdown",
   "source": [
    "### SisPI data"
   ],
   "metadata": {
    "collapsed": false,
    "pycharm": {
     "name": "#%% md\n"
    }
   }
  },
  {
   "cell_type": "code",
   "execution_count": 190,
   "outputs": [],
   "source": [
    "from netCDF4 import Dataset\n",
    "from pathlib import Path\n",
    "\n",
    "import numpy as np\n"
   ],
   "metadata": {
    "collapsed": false,
    "pycharm": {
     "name": "#%%\n"
    }
   }
  },
  {
   "cell_type": "code",
   "execution_count": 191,
   "outputs": [
    {
     "name": "stdout",
     "output_type": "stream",
     "text": [
      "24\n"
     ]
    },
    {
     "data": {
      "text/plain": "[PosixPath('/home/jch/Documents/Grilla/Final MN/data/SisPI/d03/wrfout_d03_2021-07-06_01:00:00'),\n PosixPath('/home/jch/Documents/Grilla/Final MN/data/SisPI/d03/wrfout_d03_2021-07-06_02:00:00'),\n PosixPath('/home/jch/Documents/Grilla/Final MN/data/SisPI/d03/wrfout_d03_2021-07-06_03:00:00'),\n PosixPath('/home/jch/Documents/Grilla/Final MN/data/SisPI/d03/wrfout_d03_2021-07-06_04:00:00'),\n PosixPath('/home/jch/Documents/Grilla/Final MN/data/SisPI/d03/wrfout_d03_2021-07-06_05:00:00'),\n PosixPath('/home/jch/Documents/Grilla/Final MN/data/SisPI/d03/wrfout_d03_2021-07-06_06:00:00'),\n PosixPath('/home/jch/Documents/Grilla/Final MN/data/SisPI/d03/wrfout_d03_2021-07-06_07:00:00'),\n PosixPath('/home/jch/Documents/Grilla/Final MN/data/SisPI/d03/wrfout_d03_2021-07-06_08:00:00'),\n PosixPath('/home/jch/Documents/Grilla/Final MN/data/SisPI/d03/wrfout_d03_2021-07-06_09:00:00'),\n PosixPath('/home/jch/Documents/Grilla/Final MN/data/SisPI/d03/wrfout_d03_2021-07-06_10:00:00'),\n PosixPath('/home/jch/Documents/Grilla/Final MN/data/SisPI/d03/wrfout_d03_2021-07-06_11:00:00'),\n PosixPath('/home/jch/Documents/Grilla/Final MN/data/SisPI/d03/wrfout_d03_2021-07-06_12:00:00'),\n PosixPath('/home/jch/Documents/Grilla/Final MN/data/SisPI/d03/wrfout_d03_2021-07-06_13:00:00'),\n PosixPath('/home/jch/Documents/Grilla/Final MN/data/SisPI/d03/wrfout_d03_2021-07-06_14:00:00'),\n PosixPath('/home/jch/Documents/Grilla/Final MN/data/SisPI/d03/wrfout_d03_2021-07-06_15:00:00'),\n PosixPath('/home/jch/Documents/Grilla/Final MN/data/SisPI/d03/wrfout_d03_2021-07-06_16:00:00'),\n PosixPath('/home/jch/Documents/Grilla/Final MN/data/SisPI/d03/wrfout_d03_2021-07-06_17:00:00'),\n PosixPath('/home/jch/Documents/Grilla/Final MN/data/SisPI/d03/wrfout_d03_2021-07-06_18:00:00'),\n PosixPath('/home/jch/Documents/Grilla/Final MN/data/SisPI/d03/wrfout_d03_2021-07-06_19:00:00'),\n PosixPath('/home/jch/Documents/Grilla/Final MN/data/SisPI/d03/wrfout_d03_2021-07-06_20:00:00'),\n PosixPath('/home/jch/Documents/Grilla/Final MN/data/SisPI/d03/wrfout_d03_2021-07-06_21:00:00'),\n PosixPath('/home/jch/Documents/Grilla/Final MN/data/SisPI/d03/wrfout_d03_2021-07-06_22:00:00'),\n PosixPath('/home/jch/Documents/Grilla/Final MN/data/SisPI/d03/wrfout_d03_2021-07-06_23:00:00'),\n PosixPath('/home/jch/Documents/Grilla/Final MN/data/SisPI/d03/wrfout_d03_2021-07-07_00:00:00')]"
     },
     "execution_count": 191,
     "metadata": {},
     "output_type": "execute_result"
    }
   ],
   "source": [
    "path = Path.joinpath(Path.cwd(), \"data\", \"SisPI\", \"d03\")\n",
    "files_sispi = [f for f in path.iterdir() if f.name.startswith(\"wrfout\") and not f.name.endswith(\".dat\")]\n",
    "\n",
    "files_sispi.sort()\n",
    "\n",
    "print(len(files_sispi))\n",
    "\n",
    "files_sispi"
   ],
   "metadata": {
    "collapsed": false,
    "pycharm": {
     "name": "#%%\n"
    }
   }
  },
  {
   "cell_type": "code",
   "execution_count": 192,
   "outputs": [],
   "source": [
    "D03_MINLON = 0\n",
    "D03_MAXLON = 0\n",
    "D03_MINLAT = 0\n",
    "D03_MAXLAT = 0"
   ],
   "metadata": {
    "collapsed": false,
    "pycharm": {
     "name": "#%%\n"
    }
   }
  },
  {
   "cell_type": "code",
   "execution_count": 193,
   "outputs": [],
   "source": [
    "rain, tmp = np.zeros(shape=(183, 411)), np.zeros(shape=(183, 411))\n",
    "fwrf_lat, fwrf_lon = [], []\n",
    "\n",
    "for fwrf in files_sispi:\n",
    "    nc = Dataset(fwrf)\n",
    "\n",
    "    print(f'Processing file: {fwrf}')\n",
    "\n",
    "    base_path_results_sispi = str(\n",
    "        Path.joinpath(fwrf.parent.parent.parent, 'sispy_results', fwrf.name))\n",
    "\n",
    "    time = nc['Times']\n",
    "    _date: str = ''.join([a.decode('UTF-8') for a in time[0][:]])\n",
    "\n",
    "    rainc, rainnc = np.array(nc.variables['RAINC'][0]), np.array(nc.variables['RAINNC'][0])\n",
    "    xlat, xlon = np.array(nc.variables['XLAT'][0]), np.array(nc.variables['XLONG'][0])\n",
    "\n",
    "    if fwrf.name[22:24] == '00' and fwrf.name[19: 21] == _date[8: 10]:\n",
    "\n",
    "        tmp = rainc + rainnc\n",
    "\n",
    "        fwrf_lat = xlat\n",
    "        fwrf_lon = xlon\n",
    "\n",
    "        np.savetxt(base_path_results_sispi + \"_LAT.dat\", xlat, delimiter=',')\n",
    "        np.savetxt(base_path_results_sispi + \"_LON.dat\", xlon, delimiter=',')\n",
    "\n",
    "        D03_MINLAT = np.min(xlat)\n",
    "        D03_MAXLAT = np.max(xlat)\n",
    "        D03_MINLON = np.min(xlon)\n",
    "        D03_MAXLON = np.max(xlon)\n",
    "\n",
    "        continue\n",
    "    else:\n",
    "        rain = rainc + rainnc\n",
    "        rain -= tmp\n",
    "        tmp = rainc + rainnc\n",
    "\n",
    "    np.savetxt(base_path_results_sispi + \"_wrf.dat\", rain, delimiter=',')\n"
   ],
   "metadata": {
    "collapsed": false,
    "pycharm": {
     "name": "#%%\n"
    }
   }
  },
  {
   "cell_type": "markdown",
   "source": [
    "### GPM data"
   ],
   "metadata": {
    "collapsed": false,
    "pycharm": {
     "name": "#%% md\n"
    }
   }
  },
  {
   "cell_type": "code",
   "execution_count": 194,
   "outputs": [],
   "source": [
    "import h5py\n",
    "import numpy as np\n",
    "import matplotlib.pyplot as plt\n",
    "\n",
    "from mpl_toolkits.basemap import Basemap\n",
    "from mpl_toolkits.basemap import cm\n",
    "from pathlib import Path"
   ],
   "metadata": {
    "collapsed": false,
    "pycharm": {
     "name": "#%%\n"
    }
   }
  },
  {
   "cell_type": "code",
   "execution_count": 195,
   "outputs": [
    {
     "data": {
      "text/plain": "[PosixPath('/home/jch/Documents/Grilla/Final MN/data/GPM/3B-HHR.MS.MRG.3IMERG.20210706-S000000-E002959.0000.V06B.HDF5'),\n PosixPath('/home/jch/Documents/Grilla/Final MN/data/GPM/3B-HHR.MS.MRG.3IMERG.20210706-S003000-E005959.0030.V06B.HDF5'),\n PosixPath('/home/jch/Documents/Grilla/Final MN/data/GPM/3B-HHR.MS.MRG.3IMERG.20210706-S010000-E012959.0060.V06B.HDF5'),\n PosixPath('/home/jch/Documents/Grilla/Final MN/data/GPM/3B-HHR.MS.MRG.3IMERG.20210706-S013000-E015959.0090.V06B.HDF5'),\n PosixPath('/home/jch/Documents/Grilla/Final MN/data/GPM/3B-HHR.MS.MRG.3IMERG.20210706-S020000-E022959.0120.V06B.HDF5'),\n PosixPath('/home/jch/Documents/Grilla/Final MN/data/GPM/3B-HHR.MS.MRG.3IMERG.20210706-S023000-E025959.0150.V06B.HDF5'),\n PosixPath('/home/jch/Documents/Grilla/Final MN/data/GPM/3B-HHR.MS.MRG.3IMERG.20210706-S030000-E032959.0180.V06B.HDF5'),\n PosixPath('/home/jch/Documents/Grilla/Final MN/data/GPM/3B-HHR.MS.MRG.3IMERG.20210706-S033000-E035959.0210.V06B.HDF5'),\n PosixPath('/home/jch/Documents/Grilla/Final MN/data/GPM/3B-HHR.MS.MRG.3IMERG.20210706-S040000-E042959.0240.V06B.HDF5'),\n PosixPath('/home/jch/Documents/Grilla/Final MN/data/GPM/3B-HHR.MS.MRG.3IMERG.20210706-S043000-E045959.0270.V06B.HDF5'),\n PosixPath('/home/jch/Documents/Grilla/Final MN/data/GPM/3B-HHR.MS.MRG.3IMERG.20210706-S050000-E052959.0300.V06B.HDF5'),\n PosixPath('/home/jch/Documents/Grilla/Final MN/data/GPM/3B-HHR.MS.MRG.3IMERG.20210706-S053000-E055959.0330.V06B.HDF5'),\n PosixPath('/home/jch/Documents/Grilla/Final MN/data/GPM/3B-HHR.MS.MRG.3IMERG.20210706-S060000-E062959.0360.V06B.HDF5'),\n PosixPath('/home/jch/Documents/Grilla/Final MN/data/GPM/3B-HHR.MS.MRG.3IMERG.20210706-S063000-E065959.0390.V06B.HDF5'),\n PosixPath('/home/jch/Documents/Grilla/Final MN/data/GPM/3B-HHR.MS.MRG.3IMERG.20210706-S070000-E072959.0420.V06B.HDF5'),\n PosixPath('/home/jch/Documents/Grilla/Final MN/data/GPM/3B-HHR.MS.MRG.3IMERG.20210706-S073000-E075959.0450.V06B.HDF5'),\n PosixPath('/home/jch/Documents/Grilla/Final MN/data/GPM/3B-HHR.MS.MRG.3IMERG.20210706-S080000-E082959.0480.V06B.HDF5'),\n PosixPath('/home/jch/Documents/Grilla/Final MN/data/GPM/3B-HHR.MS.MRG.3IMERG.20210706-S083000-E085959.0510.V06B.HDF5'),\n PosixPath('/home/jch/Documents/Grilla/Final MN/data/GPM/3B-HHR.MS.MRG.3IMERG.20210706-S090000-E092959.0540.V06B.HDF5'),\n PosixPath('/home/jch/Documents/Grilla/Final MN/data/GPM/3B-HHR.MS.MRG.3IMERG.20210706-S093000-E095959.0570.V06B.HDF5'),\n PosixPath('/home/jch/Documents/Grilla/Final MN/data/GPM/3B-HHR.MS.MRG.3IMERG.20210706-S100000-E102959.0600.V06B.HDF5'),\n PosixPath('/home/jch/Documents/Grilla/Final MN/data/GPM/3B-HHR.MS.MRG.3IMERG.20210706-S103000-E105959.0630.V06B.HDF5'),\n PosixPath('/home/jch/Documents/Grilla/Final MN/data/GPM/3B-HHR.MS.MRG.3IMERG.20210706-S110000-E112959.0660.V06B.HDF5'),\n PosixPath('/home/jch/Documents/Grilla/Final MN/data/GPM/3B-HHR.MS.MRG.3IMERG.20210706-S113000-E115959.0690.V06B.HDF5'),\n PosixPath('/home/jch/Documents/Grilla/Final MN/data/GPM/3B-HHR.MS.MRG.3IMERG.20210706-S120000-E122959.0720.V06B.HDF5'),\n PosixPath('/home/jch/Documents/Grilla/Final MN/data/GPM/3B-HHR.MS.MRG.3IMERG.20210706-S123000-E125959.0750.V06B.HDF5'),\n PosixPath('/home/jch/Documents/Grilla/Final MN/data/GPM/3B-HHR.MS.MRG.3IMERG.20210706-S130000-E132959.0780.V06B.HDF5'),\n PosixPath('/home/jch/Documents/Grilla/Final MN/data/GPM/3B-HHR.MS.MRG.3IMERG.20210706-S133000-E135959.0810.V06B.HDF5'),\n PosixPath('/home/jch/Documents/Grilla/Final MN/data/GPM/3B-HHR.MS.MRG.3IMERG.20210706-S140000-E142959.0840.V06B.HDF5'),\n PosixPath('/home/jch/Documents/Grilla/Final MN/data/GPM/3B-HHR.MS.MRG.3IMERG.20210706-S143000-E145959.0870.V06B.HDF5'),\n PosixPath('/home/jch/Documents/Grilla/Final MN/data/GPM/3B-HHR.MS.MRG.3IMERG.20210706-S150000-E152959.0900.V06B.HDF5'),\n PosixPath('/home/jch/Documents/Grilla/Final MN/data/GPM/3B-HHR.MS.MRG.3IMERG.20210706-S153000-E155959.0930.V06B.HDF5'),\n PosixPath('/home/jch/Documents/Grilla/Final MN/data/GPM/3B-HHR.MS.MRG.3IMERG.20210706-S160000-E162959.0960.V06B.HDF5'),\n PosixPath('/home/jch/Documents/Grilla/Final MN/data/GPM/3B-HHR.MS.MRG.3IMERG.20210706-S163000-E165959.0990.V06B.HDF5'),\n PosixPath('/home/jch/Documents/Grilla/Final MN/data/GPM/3B-HHR.MS.MRG.3IMERG.20210706-S170000-E172959.1020.V06B.HDF5'),\n PosixPath('/home/jch/Documents/Grilla/Final MN/data/GPM/3B-HHR.MS.MRG.3IMERG.20210706-S173000-E175959.1050.V06B.HDF5'),\n PosixPath('/home/jch/Documents/Grilla/Final MN/data/GPM/3B-HHR.MS.MRG.3IMERG.20210706-S180000-E182959.1080.V06B.HDF5'),\n PosixPath('/home/jch/Documents/Grilla/Final MN/data/GPM/3B-HHR.MS.MRG.3IMERG.20210706-S183000-E185959.1110.V06B.HDF5'),\n PosixPath('/home/jch/Documents/Grilla/Final MN/data/GPM/3B-HHR.MS.MRG.3IMERG.20210706-S190000-E192959.1140.V06B.HDF5'),\n PosixPath('/home/jch/Documents/Grilla/Final MN/data/GPM/3B-HHR.MS.MRG.3IMERG.20210706-S193000-E195959.1170.V06B.HDF5'),\n PosixPath('/home/jch/Documents/Grilla/Final MN/data/GPM/3B-HHR.MS.MRG.3IMERG.20210706-S200000-E202959.1200.V06B.HDF5'),\n PosixPath('/home/jch/Documents/Grilla/Final MN/data/GPM/3B-HHR.MS.MRG.3IMERG.20210706-S203000-E205959.1230.V06B.HDF5'),\n PosixPath('/home/jch/Documents/Grilla/Final MN/data/GPM/3B-HHR.MS.MRG.3IMERG.20210706-S210000-E212959.1260.V06B.HDF5'),\n PosixPath('/home/jch/Documents/Grilla/Final MN/data/GPM/3B-HHR.MS.MRG.3IMERG.20210706-S213000-E215959.1290.V06B.HDF5'),\n PosixPath('/home/jch/Documents/Grilla/Final MN/data/GPM/3B-HHR.MS.MRG.3IMERG.20210706-S220000-E222959.1320.V06B.HDF5'),\n PosixPath('/home/jch/Documents/Grilla/Final MN/data/GPM/3B-HHR.MS.MRG.3IMERG.20210706-S223000-E225959.1350.V06B.HDF5'),\n PosixPath('/home/jch/Documents/Grilla/Final MN/data/GPM/3B-HHR.MS.MRG.3IMERG.20210706-S230000-E232959.1380.V06B.HDF5'),\n PosixPath('/home/jch/Documents/Grilla/Final MN/data/GPM/3B-HHR.MS.MRG.3IMERG.20210706-S233000-E235959.1410.V06B.HDF5')]"
     },
     "execution_count": 195,
     "metadata": {},
     "output_type": "execute_result"
    }
   ],
   "source": [
    "path = Path.joinpath(Path.cwd(), \"data\", \"GPM\")\n",
    "files_gpm = [f for f in path.iterdir() if f.suffix == \".HDF5\"]\n",
    "\n",
    "files_gpm.sort()\n",
    "\n",
    "files_gpm"
   ],
   "metadata": {
    "collapsed": false,
    "pycharm": {
     "name": "#%%\n"
    }
   }
  },
  {
   "cell_type": "code",
   "execution_count": 196,
   "outputs": [
    {
     "name": "stdout",
     "output_type": "stream",
     "text": [
      "Processing file: /home/jch/Documents/Grilla/Final MN/data/GPM/3B-HHR.MS.MRG.3IMERG.20210706-S000000-E002959.0000.V06B.HDF5\n",
      "Processing file: /home/jch/Documents/Grilla/Final MN/data/GPM/3B-HHR.MS.MRG.3IMERG.20210706-S003000-E005959.0030.V06B.HDF5\n",
      "Processing file: /home/jch/Documents/Grilla/Final MN/data/GPM/3B-HHR.MS.MRG.3IMERG.20210706-S010000-E012959.0060.V06B.HDF5\n",
      "Processing file: /home/jch/Documents/Grilla/Final MN/data/GPM/3B-HHR.MS.MRG.3IMERG.20210706-S013000-E015959.0090.V06B.HDF5\n",
      "Processing file: /home/jch/Documents/Grilla/Final MN/data/GPM/3B-HHR.MS.MRG.3IMERG.20210706-S020000-E022959.0120.V06B.HDF5\n",
      "Processing file: /home/jch/Documents/Grilla/Final MN/data/GPM/3B-HHR.MS.MRG.3IMERG.20210706-S023000-E025959.0150.V06B.HDF5\n",
      "Processing file: /home/jch/Documents/Grilla/Final MN/data/GPM/3B-HHR.MS.MRG.3IMERG.20210706-S030000-E032959.0180.V06B.HDF5\n",
      "Processing file: /home/jch/Documents/Grilla/Final MN/data/GPM/3B-HHR.MS.MRG.3IMERG.20210706-S033000-E035959.0210.V06B.HDF5\n",
      "Processing file: /home/jch/Documents/Grilla/Final MN/data/GPM/3B-HHR.MS.MRG.3IMERG.20210706-S040000-E042959.0240.V06B.HDF5\n",
      "Processing file: /home/jch/Documents/Grilla/Final MN/data/GPM/3B-HHR.MS.MRG.3IMERG.20210706-S043000-E045959.0270.V06B.HDF5\n",
      "Processing file: /home/jch/Documents/Grilla/Final MN/data/GPM/3B-HHR.MS.MRG.3IMERG.20210706-S050000-E052959.0300.V06B.HDF5\n",
      "Processing file: /home/jch/Documents/Grilla/Final MN/data/GPM/3B-HHR.MS.MRG.3IMERG.20210706-S053000-E055959.0330.V06B.HDF5\n",
      "Processing file: /home/jch/Documents/Grilla/Final MN/data/GPM/3B-HHR.MS.MRG.3IMERG.20210706-S060000-E062959.0360.V06B.HDF5\n",
      "Processing file: /home/jch/Documents/Grilla/Final MN/data/GPM/3B-HHR.MS.MRG.3IMERG.20210706-S063000-E065959.0390.V06B.HDF5\n",
      "Processing file: /home/jch/Documents/Grilla/Final MN/data/GPM/3B-HHR.MS.MRG.3IMERG.20210706-S070000-E072959.0420.V06B.HDF5\n",
      "Processing file: /home/jch/Documents/Grilla/Final MN/data/GPM/3B-HHR.MS.MRG.3IMERG.20210706-S073000-E075959.0450.V06B.HDF5\n",
      "Processing file: /home/jch/Documents/Grilla/Final MN/data/GPM/3B-HHR.MS.MRG.3IMERG.20210706-S080000-E082959.0480.V06B.HDF5\n",
      "Processing file: /home/jch/Documents/Grilla/Final MN/data/GPM/3B-HHR.MS.MRG.3IMERG.20210706-S083000-E085959.0510.V06B.HDF5\n",
      "Processing file: /home/jch/Documents/Grilla/Final MN/data/GPM/3B-HHR.MS.MRG.3IMERG.20210706-S090000-E092959.0540.V06B.HDF5\n",
      "Processing file: /home/jch/Documents/Grilla/Final MN/data/GPM/3B-HHR.MS.MRG.3IMERG.20210706-S093000-E095959.0570.V06B.HDF5\n",
      "Processing file: /home/jch/Documents/Grilla/Final MN/data/GPM/3B-HHR.MS.MRG.3IMERG.20210706-S100000-E102959.0600.V06B.HDF5\n",
      "Processing file: /home/jch/Documents/Grilla/Final MN/data/GPM/3B-HHR.MS.MRG.3IMERG.20210706-S103000-E105959.0630.V06B.HDF5\n",
      "Processing file: /home/jch/Documents/Grilla/Final MN/data/GPM/3B-HHR.MS.MRG.3IMERG.20210706-S110000-E112959.0660.V06B.HDF5\n",
      "Processing file: /home/jch/Documents/Grilla/Final MN/data/GPM/3B-HHR.MS.MRG.3IMERG.20210706-S113000-E115959.0690.V06B.HDF5\n",
      "Processing file: /home/jch/Documents/Grilla/Final MN/data/GPM/3B-HHR.MS.MRG.3IMERG.20210706-S120000-E122959.0720.V06B.HDF5\n",
      "Processing file: /home/jch/Documents/Grilla/Final MN/data/GPM/3B-HHR.MS.MRG.3IMERG.20210706-S123000-E125959.0750.V06B.HDF5\n",
      "Processing file: /home/jch/Documents/Grilla/Final MN/data/GPM/3B-HHR.MS.MRG.3IMERG.20210706-S130000-E132959.0780.V06B.HDF5\n",
      "Processing file: /home/jch/Documents/Grilla/Final MN/data/GPM/3B-HHR.MS.MRG.3IMERG.20210706-S133000-E135959.0810.V06B.HDF5\n",
      "Processing file: /home/jch/Documents/Grilla/Final MN/data/GPM/3B-HHR.MS.MRG.3IMERG.20210706-S140000-E142959.0840.V06B.HDF5\n",
      "Processing file: /home/jch/Documents/Grilla/Final MN/data/GPM/3B-HHR.MS.MRG.3IMERG.20210706-S143000-E145959.0870.V06B.HDF5\n",
      "Processing file: /home/jch/Documents/Grilla/Final MN/data/GPM/3B-HHR.MS.MRG.3IMERG.20210706-S150000-E152959.0900.V06B.HDF5\n",
      "Processing file: /home/jch/Documents/Grilla/Final MN/data/GPM/3B-HHR.MS.MRG.3IMERG.20210706-S153000-E155959.0930.V06B.HDF5\n",
      "Processing file: /home/jch/Documents/Grilla/Final MN/data/GPM/3B-HHR.MS.MRG.3IMERG.20210706-S160000-E162959.0960.V06B.HDF5\n",
      "Processing file: /home/jch/Documents/Grilla/Final MN/data/GPM/3B-HHR.MS.MRG.3IMERG.20210706-S163000-E165959.0990.V06B.HDF5\n",
      "Processing file: /home/jch/Documents/Grilla/Final MN/data/GPM/3B-HHR.MS.MRG.3IMERG.20210706-S170000-E172959.1020.V06B.HDF5\n",
      "Processing file: /home/jch/Documents/Grilla/Final MN/data/GPM/3B-HHR.MS.MRG.3IMERG.20210706-S173000-E175959.1050.V06B.HDF5\n",
      "Processing file: /home/jch/Documents/Grilla/Final MN/data/GPM/3B-HHR.MS.MRG.3IMERG.20210706-S180000-E182959.1080.V06B.HDF5\n",
      "Processing file: /home/jch/Documents/Grilla/Final MN/data/GPM/3B-HHR.MS.MRG.3IMERG.20210706-S183000-E185959.1110.V06B.HDF5\n",
      "Processing file: /home/jch/Documents/Grilla/Final MN/data/GPM/3B-HHR.MS.MRG.3IMERG.20210706-S190000-E192959.1140.V06B.HDF5\n",
      "Processing file: /home/jch/Documents/Grilla/Final MN/data/GPM/3B-HHR.MS.MRG.3IMERG.20210706-S193000-E195959.1170.V06B.HDF5\n",
      "Processing file: /home/jch/Documents/Grilla/Final MN/data/GPM/3B-HHR.MS.MRG.3IMERG.20210706-S200000-E202959.1200.V06B.HDF5\n",
      "Processing file: /home/jch/Documents/Grilla/Final MN/data/GPM/3B-HHR.MS.MRG.3IMERG.20210706-S203000-E205959.1230.V06B.HDF5\n",
      "Processing file: /home/jch/Documents/Grilla/Final MN/data/GPM/3B-HHR.MS.MRG.3IMERG.20210706-S210000-E212959.1260.V06B.HDF5\n",
      "Processing file: /home/jch/Documents/Grilla/Final MN/data/GPM/3B-HHR.MS.MRG.3IMERG.20210706-S213000-E215959.1290.V06B.HDF5\n",
      "Processing file: /home/jch/Documents/Grilla/Final MN/data/GPM/3B-HHR.MS.MRG.3IMERG.20210706-S220000-E222959.1320.V06B.HDF5\n",
      "Processing file: /home/jch/Documents/Grilla/Final MN/data/GPM/3B-HHR.MS.MRG.3IMERG.20210706-S223000-E225959.1350.V06B.HDF5\n",
      "Processing file: /home/jch/Documents/Grilla/Final MN/data/GPM/3B-HHR.MS.MRG.3IMERG.20210706-S230000-E232959.1380.V06B.HDF5\n",
      "Processing file: /home/jch/Documents/Grilla/Final MN/data/GPM/3B-HHR.MS.MRG.3IMERG.20210706-S233000-E235959.1410.V06B.HDF5\n"
     ]
    }
   ],
   "source": [
    "GPM_NX = 1800\n",
    "GPM_NY = 3600\n",
    "\n",
    "rain_d03 = np.zeros(shape=(49, 118))\n",
    "lats, lons = np.zeros(shape=(GPM_NX, GPM_NY)), np.zeros(shape=(GPM_NX, GPM_NY))\n",
    "\n",
    "tmp_rain = np.zeros(shape=(GPM_NX, GPM_NY))\n",
    "\n",
    "d03_lat, d03_lon = [], []\n",
    "d03_lat_index, d03_lon_index = [], []\n",
    "\n",
    "lonlat_save = 1\n",
    "for indx, p_file in enumerate(files_gpm):\n",
    "    gpm = str(p_file)\n",
    "    base_path_results_gpm = str(\n",
    "        Path.joinpath(p_file.parent.parent, 'gpm_results', p_file.name))\n",
    "\n",
    "    print(f\"Processing file: {gpm}\")\n",
    "    dataset = h5py.File(gpm, 'r')\n",
    "\n",
    "    precip = np.transpose(dataset['Grid/precipitationCal'][:])\n",
    "\n",
    "    if lonlat_save:\n",
    "        lats = dataset['Grid/lat'][:]\n",
    "        lons = dataset['Grid/lon'][:]\n",
    "\n",
    "        for lat in lats:\n",
    "            if D03_MINLAT <= lat <= D03_MAXLAT:\n",
    "                d03_lat.append(lat)\n",
    "                d03_lat_index.append(list(lats).index(lat))\n",
    "\n",
    "        for lon in lons:\n",
    "            if D03_MINLON <= lon <= D03_MAXLON:\n",
    "                d03_lon.append(lon)\n",
    "                d03_lon_index.append(list(lons).index(lon))\n",
    "\n",
    "        np.savetxt(base_path_results_gpm + \"_D03_LAT.dat\", d03_lat, delimiter=',')\n",
    "        np.savetxt(base_path_results_gpm + \"_D03_LON.dat\", d03_lon, delimiter=',')\n",
    "\n",
    "        lonlat_save = 0\n",
    "\n",
    "    if indx % 2 == 0 and indx != 0:\n",
    "        rain_d03 = rain_d03 + precip[d03_lat_index[0]: d03_lat_index[-1], d03_lon_index[0]: d03_lon_index[-1], 0]\n",
    "        np.savetxt(base_path_results_gpm + \"_D03.dat\", rain_d03, delimiter=',')\n",
    "\n",
    "        fig = plt.figure(dpi=300)\n",
    "\n",
    "        m = Basemap(projection='merc',\n",
    "                    llcrnrlat=lats[d03_lat_index[0]],\n",
    "                    urcrnrlat=lats[d03_lat_index[-1]],\n",
    "                    llcrnrlon=lons[d03_lon_index[0]],\n",
    "                    urcrnrlon=lons[d03_lon_index[-1]],\n",
    "                    resolution='i')\n",
    "\n",
    "        m.drawcoastlines()\n",
    "        m.drawcountries()\n",
    "\n",
    "        x, y = np.float32(\n",
    "            np.meshgrid(lons[d03_lon_index[0]: d03_lon_index[-1]], lats[d03_lat_index[0]: d03_lat_index[-1]]))\n",
    "\n",
    "        masked_array = np.ma.masked_where(rain_d03 < 0.1, rain_d03)\n",
    "\n",
    "        cmap = cm.s3pcpn_l\n",
    "        clevs = np.array([0.1, 0.6, 1, 2, 4, 6, 8, 12, 17, 21, 25, 33, 40, 50, 65, 80, 120, 150])\n",
    "\n",
    "        cs = m.contourf(x, y, masked_array, clevs, cmap=cmap, latlon=True)\n",
    "\n",
    "        parallels = np.arange(0., 90, 10)\n",
    "        m.drawparallels(parallels, labels=[1, 0, 0, 0], fontsize=10)\n",
    "        meridians = np.arange(180., 360., 10)\n",
    "        m.drawmeridians(meridians, labels=[0, 0, 0, 1], fontsize=10)\n",
    "\n",
    "        font = {'weight': 'bold', 'size': 6}\n",
    "        plt.rc('font', **font)\n",
    "\n",
    "        cbar = m.colorbar(cs, location='right', pad=\"5%\")\n",
    "        cbar.set_label('mm/h')\n",
    "\n",
    "        plt.savefig(base_path_results_gpm + \"_D03.png\", dpi=300)\n",
    "        plt.close()\n",
    "\n",
    "        rain_d03[:, :] = 0.0\n",
    "\n",
    "    else:\n",
    "        rain_d03 = rain_d03 + precip[d03_lat_index[0]: d03_lat_index[-1], d03_lon_index[0]: d03_lon_index[-1], 0]"
   ],
   "metadata": {
    "collapsed": false,
    "pycharm": {
     "name": "#%%\n"
    }
   }
  },
  {
   "cell_type": "code",
   "execution_count": 197,
   "outputs": [],
   "source": [
    "gpm_results_base_path = Path.joinpath(Path.cwd(), 'data', 'gpm_results')\n",
    "sispi_results_base_path = Path.joinpath(Path.cwd(), 'data', 'sispy_results')\n",
    "wrf2gpm_results_base_path = str(Path.joinpath(Path.cwd(), 'data', 'wrf2gpm_results'))"
   ],
   "metadata": {
    "collapsed": false,
    "pycharm": {
     "name": "#%%\n"
    }
   }
  },
  {
   "cell_type": "code",
   "execution_count": 198,
   "outputs": [],
   "source": [
    "from scipy.interpolate import NearestNDInterpolator\n",
    "\n",
    "for f in sispi_results_base_path.glob(\"*_wrf.dat\"):\n",
    "    rain_sispi = np.loadtxt(f, delimiter=',')\n",
    "\n",
    "    points = np.concatenate((fwrf_lon.reshape(fwrf_lon.size, 1), fwrf_lat.reshape(fwrf_lat.size, 1)), axis=1)\n",
    "    interp_val = NearestNDInterpolator(points, rain_sispi.reshape(rain_sispi.size, 1))\n",
    "\n",
    "    x, y = np.float32(np.meshgrid(d03_lon, d03_lat))\n",
    "\n",
    "    gpm_point = np.concatenate((x.reshape(x.size, 1), y.reshape(y.size, 1)), axis=1)\n",
    "\n",
    "    rain_gpm = interp_val(gpm_point)\n",
    "\n",
    "    np.savetxt(wrf2gpm_results_base_path + \"/\" + f.name + \"_D03_wrf2gpm.dat\",\n",
    "               rain_gpm.reshape(len(d03_lat), len(d03_lon)),\n",
    "               delimiter=',')\n",
    "\n",
    "    # Plot the figure, define the geographic bounds\n",
    "    fig = plt.figure(dpi=300)\n",
    "\n",
    "    m = Basemap(projection='merc',\n",
    "                llcrnrlat=d03_lat[0],\n",
    "                urcrnrlat=d03_lat[-1],\n",
    "                llcrnrlon=d03_lon[0],\n",
    "                urcrnrlon=d03_lon[-1],\n",
    "                resolution='i')\n",
    "\n",
    "    m.drawcoastlines()\n",
    "    m.drawcountries()\n",
    "\n",
    "    x, y = np.float32(np.meshgrid(d03_lon, d03_lat))\n",
    "\n",
    "    masked_array = np.ma.masked_where(rain_gpm < 0.1, rain_gpm)\n",
    "\n",
    "    cmap = cm.s3pcpn_l\n",
    "    clevs = np.array([0.1, 0.6, 1, 2, 4, 6, 8, 12, 17, 21, 25, 33, 40, 50, 65, 80, 120, 150])\n",
    "\n",
    "    cs = m.contourf(x, y, masked_array.reshape(len(d03_lat), len(d03_lon)), clevs, cmap=cmap, latlon=True)\n",
    "\n",
    "    parallels = np.arange(0., 90, 10)\n",
    "    m.drawparallels(parallels, labels=[1, 0, 0, 0], fontsize=10)\n",
    "    meridians = np.arange(180., 360., 10)\n",
    "    m.drawmeridians(meridians, labels=[0, 0, 0, 1], fontsize=10)\n",
    "\n",
    "    font = {'weight': 'bold', 'size': 6}\n",
    "    plt.rc('font', **font)\n",
    "\n",
    "    # Add colorbar\n",
    "\n",
    "    cbar = m.colorbar(cs, location='right', pad=\"5%\")\n",
    "    cbar.set_label('mm/h')\n",
    "\n",
    "    plt.savefig(wrf2gpm_results_base_path + \"/\" + f.name + \"_D03_wrf2gpm.png\", dpi=300)\n",
    "    plt.close()"
   ],
   "metadata": {
    "collapsed": false,
    "pycharm": {
     "name": "#%%\n"
    }
   }
  },
  {
   "cell_type": "code",
   "execution_count": 199,
   "outputs": [],
   "source": [
    "from sklearn.linear_model import LinearRegression\n",
    "from sklearn.metrics import r2_score\n",
    "import pandas as pd\n",
    "import numpy as np"
   ],
   "metadata": {
    "collapsed": false,
    "pycharm": {
     "name": "#%%\n"
    }
   }
  },
  {
   "cell_type": "code",
   "execution_count": 200,
   "outputs": [],
   "source": [
    "p = len(d03_lat) * len(d03_lon)\n",
    "v_lat = np.repeat(d03_lat, p / len(d03_lat))\n",
    "v_lon = np.repeat(d03_lon, p / len(d03_lon))\n",
    "\n",
    "lat_d03_df, lon_d03_df, gpm_data, h_d03 = [], [], [], []\n",
    "\n",
    "indx = 0\n",
    "\n",
    "gpm_results = [x for x in gpm_results_base_path.iterdir() if x.is_file() and x.name.endswith(\"_D03.dat\")]\n",
    "gpm_results.sort()\n",
    "\n",
    "for indx, f in enumerate(gpm_results):\n",
    "    d = np.loadtxt(f, delimiter=',').flatten()\n",
    "\n",
    "    for x in d:\n",
    "        gpm_data.append(x)\n",
    "        lat_d03_df.append(v_lat[indx % len(v_lat)])\n",
    "        lon_d03_df.append(v_lon[indx % len(v_lon)])\n",
    "        h_d03.append(indx)\n",
    "\n",
    "        indx += 1\n",
    "\n",
    "gpm = np.array(gpm_data)\n",
    "\n"
   ],
   "metadata": {
    "collapsed": false,
    "pycharm": {
     "name": "#%%\n"
    }
   }
  },
  {
   "cell_type": "code",
   "execution_count": 201,
   "outputs": [],
   "source": [
    "p = len(fwrf_lat) * len(fwrf_lon)\n",
    "v_lat = np.repeat(fwrf_lat, p / len(fwrf_lat))\n",
    "v_lon = np.repeat(fwrf_lon, p / len(fwrf_lon))\n",
    "\n",
    "sispi_results = [x for x in sispi_results_base_path.iterdir() if x.is_file() and x.name.endswith(\"_wrf.dat\")]\n",
    "sispi_results.sort()\n",
    "\n",
    "lat_fwrf_df, lon_fwrf_df, h_fwrf, sispy_data = [], [], [], []\n",
    "\n",
    "for indx, f in enumerate(sispi_results):\n",
    "    d = np.loadtxt(f, delimiter=',').flatten()\n",
    "\n",
    "    for x in d:\n",
    "        sispy_data.append(1)\n",
    "        lat_fwrf_df.append(v_lat[indx % len(v_lat)])\n",
    "        lon_fwrf_df.append(v_lon[indx % len(v_lon)])\n",
    "        h_fwrf.append(indx)\n",
    "\n",
    "sispy = np.array(sispy_data)\n"
   ],
   "metadata": {
    "collapsed": false,
    "pycharm": {
     "name": "#%%\n"
    }
   }
  },
  {
   "cell_type": "code",
   "execution_count": 202,
   "outputs": [
    {
     "name": "stdout",
     "output_type": "stream",
     "text": [
      "1729899 1729899 1729899 1729899\n",
      "0.05005352542137309\n",
      "[ 7.34587889e+01  7.43377164e-01 -6.29629126e-02]\n",
      "0.05005352542137309\n"
     ]
    }
   ],
   "source": [
    "df_d03 = pd.DataFrame({'lat': lat_d03_df, 'lon': lon_d03_df, 'prec': gpm_data, 'hrs': h_d03})\n",
    "df_d03 = df_d03[df_d03['prec'] > 0]\n",
    "\n",
    "print(len(lat_fwrf_df), len(lon_fwrf_df), len(sispy_data), len(h_fwrf))\n",
    "\n",
    "df_fwrf = pd.DataFrame({'lat': lat_fwrf_df, 'lon': lon_fwrf_df, 'prec': sispy_data, 'hrs': h_fwrf})\n",
    "df_fwrf = df_fwrf[df_fwrf['prec'] > 0]\n",
    "\n",
    "x = np.column_stack((df_d03['lat'], df_d03['lon'], df_d03['hrs']))\n",
    "y = df_d03['prec']\n",
    "\n",
    "model = LinearRegression().fit(x, y)\n",
    "\n",
    "print(model.score(x, y))\n",
    "print(model.coef_)\n",
    "print(r2_score(y, model.predict(x)))"
   ],
   "metadata": {
    "collapsed": false,
    "pycharm": {
     "name": "#%%\n"
    }
   }
  },
  {
   "cell_type": "code",
   "execution_count": 203,
   "outputs": [
    {
     "name": "stdout",
     "output_type": "stream",
     "text": [
      "1729899\n",
      "(1729899, 3)\n"
     ]
    }
   ],
   "source": [
    "print(len(sispy))\n",
    "\n",
    "x_sispi = np.column_stack((df_fwrf['lat'], df_fwrf['lon'], df_fwrf['hrs']))\n",
    "\n",
    "print(x_sispi.shape)\n",
    "\n",
    "fixed_sispi_by_model = model.predict(x_sispi)"
   ],
   "metadata": {
    "collapsed": false,
    "pycharm": {
     "name": "#%%\n"
    }
   }
  },
  {
   "cell_type": "code",
   "execution_count": 204,
   "outputs": [
    {
     "data": {
      "text/plain": "-3.648573627648366"
     },
     "execution_count": 204,
     "metadata": {},
     "output_type": "execute_result"
    }
   ],
   "source": [
    "mean = (sispy_data - fixed_sispi_by_model).sum() / len(sispy_data)\n",
    "\n",
    "mean"
   ],
   "metadata": {
    "collapsed": false,
    "pycharm": {
     "name": "#%%\n"
    }
   }
  }
 ],
 "metadata": {
  "kernelspec": {
   "display_name": "Python 3",
   "language": "python",
   "name": "python3"
  },
  "language_info": {
   "codemirror_mode": {
    "name": "ipython",
    "version": 2
   },
   "file_extension": ".py",
   "mimetype": "text/x-python",
   "name": "python",
   "nbconvert_exporter": "python",
   "pygments_lexer": "ipython2",
   "version": "2.7.6"
  }
 },
 "nbformat": 4,
 "nbformat_minor": 0
}